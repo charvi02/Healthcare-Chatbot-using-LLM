{
 "cells": [
  {
   "cell_type": "code",
   "execution_count": 1,
   "metadata": {},
   "outputs": [],
   "source": [
    "from langchain_community.document_loaders import UnstructuredPDFLoader"
   ]
  },
  {
   "cell_type": "code",
   "execution_count": 2,
   "metadata": {},
   "outputs": [],
   "source": [
    "# import pytesseract\n",
    "# local_path = \"Arunanshu Resume.pdf\"\n",
    "# pytesseract.pytesseract.tesseract_cmd = r'C:\\Program Files\\Tesseract-OCR\\tesseract.exe'\n",
    "\n",
    "# # Local PDF file uploads\n",
    "# if local_path:\n",
    "#   loader = UnstructuredPDFLoader(file_path=local_path)\n",
    "#   data = loader.load()\n",
    "# else:\n",
    "#   print(\"Upload a PDF file\")"
   ]
  },
  {
   "cell_type": "code",
   "execution_count": 21,
   "metadata": {},
   "outputs": [
    {
     "name": "stdout",
     "output_type": "stream",
     "text": [
      "Extracted text: Oct 2024\n",
      "Precise and Dexterous Robotic Manipulation via\n",
      "Human-in-the-Loop Reinforcement Learning\n",
      "Jianlan Luo1, Charles Xu1, Jeffrey Wu1and Sergey Levine1\n",
      "1Department of Electrical Engineering and Computer Sciences, UC Berkeley\n",
      "Reinforcement learning (RL) holds great promise for enabling autonomous acquisition of complex robotic\n",
      "manipulation skills, but realizing this potential in real-world settings has been challenging. We present a\n",
      "human-in-the-loop vision-based RL system that demonstrates imp\n"
     ]
    }
   ],
   "source": [
    "import PyPDF2\n",
    "import io\n",
    "\n",
    "def extract_text_from_pdf(file_path):\n",
    "    text = \"\"\n",
    "    with open(file_path, 'rb') as file:\n",
    "        pdf_reader = PyPDF2.PdfReader(file)\n",
    "        for page in pdf_reader.pages:\n",
    "            text += page.extract_text()\n",
    "    return text\n",
    "\n",
    "local_path = \"hil-serl-paper.pdf\"\n",
    "\n",
    "if local_path:\n",
    "    extracted_text = extract_text_from_pdf(local_path)\n",
    "    print(\"Extracted text:\", extracted_text[:500])  # Print first 500 characters\n",
    "else:\n",
    "    print(\"Upload a PDF file\")"
   ]
  },
  {
   "cell_type": "code",
   "execution_count": 22,
   "metadata": {},
   "outputs": [
    {
     "name": "stdout",
     "output_type": "stream",
     "text": [
      "Extracted text: Oct 2024\n",
      "Precise and Dexterous Robotic Manipulation via\n",
      "Human-in-the-Loop Reinforcement Learning\n",
      "Jianlan Luo1, Charles Xu1, Jeffrey Wu1and Sergey Levine1\n",
      "1Department of Electrical Engineering and Computer Sciences, UC Berkeley\n",
      "Reinforcement learning (RL) holds great promise for enabling autonomous acquisition of complex robotic\n",
      "manipulation skills, but realizing this potential in real-world settings has been challenging. We present a\n",
      "human-in-the-loop vision-based RL system that demonstrates impressive performance on a diverse set\n",
      "of dexterous manipulation tasks, including dynamic manipulation, precision assembly, and dual-arm\n",
      "coordination. Our approach integrates demonstrations and human corrections, efficient RL algorithms,\n",
      "and other system-level design choices to learn policies that achieve near-perfect success rates and fast cycle\n",
      "times within just 1 to 2.5 hours of training. We show that our method significantly outperforms imitation\n",
      "learning baselines and prior RL approaches, wit\n"
     ]
    }
   ],
   "source": [
    "print(\"Extracted text:\", extracted_text[:1000])"
   ]
  },
  {
   "cell_type": "code",
   "execution_count": null,
   "metadata": {},
   "outputs": [],
   "source": [
    "from langchain_community.embeddings import OllamaEmbeddings\n",
    "from langchain_text_splitters import RecursiveCharacterTextSplitter\n",
    "from langchain_community.vectorstores import Chroma"
   ]
  },
  {
   "cell_type": "code",
   "execution_count": 24,
   "metadata": {},
   "outputs": [
    {
     "name": "stdout",
     "output_type": "stream",
     "text": [
      "Number of chunks: 19\n",
      "First chunk: Oct 2024\n",
      "Precise and Dexterous Robotic Manipulation via\n",
      "Human-in-the-Loop Reinforcement Learning\n",
      "Jianlan Luo1, Charles Xu1, Jeffrey Wu1and Sergey Levine1\n",
      "1Department of Electrical Engineering and Comp\n"
     ]
    }
   ],
   "source": [
    "text_splitter = RecursiveCharacterTextSplitter(chunk_size=7500, chunk_overlap=100)\n",
    "chunks = text_splitter.split_text(extracted_text)\n",
    "print(f\"Number of chunks: {len(chunks)}\")\n",
    "print(\"First chunk:\", chunks[0][:200])"
   ]
  },
  {
   "cell_type": "code",
   "execution_count": 4,
   "metadata": {},
   "outputs": [
    {
     "ename": "NameError",
     "evalue": "name 'chunks' is not defined",
     "output_type": "error",
     "traceback": [
      "\u001b[1;31m---------------------------------------------------------------------------\u001b[0m",
      "\u001b[1;31mNameError\u001b[0m                                 Traceback (most recent call last)",
      "Cell \u001b[1;32mIn[4], line 5\u001b[0m\n\u001b[0;32m      1\u001b[0m \u001b[38;5;28;01mfrom\u001b[39;00m \u001b[38;5;21;01mlangchain\u001b[39;00m\u001b[38;5;21;01m.\u001b[39;00m\u001b[38;5;21;01mdocstore\u001b[39;00m\u001b[38;5;21;01m.\u001b[39;00m\u001b[38;5;21;01mdocument\u001b[39;00m \u001b[38;5;28;01mimport\u001b[39;00m Document\n\u001b[0;32m      2\u001b[0m \u001b[38;5;28;01mimport\u001b[39;00m \u001b[38;5;21;01mos\u001b[39;00m\n\u001b[1;32m----> 5\u001b[0m documents \u001b[38;5;241m=\u001b[39m [Document(page_content\u001b[38;5;241m=\u001b[39mchunk) \u001b[38;5;28;01mfor\u001b[39;00m chunk \u001b[38;5;129;01min\u001b[39;00m \u001b[43mchunks\u001b[49m]\n\u001b[0;32m      7\u001b[0m persist_directory \u001b[38;5;241m=\u001b[39m \u001b[38;5;124m\"\u001b[39m\u001b[38;5;124mchroma_db_akshay_hehe\u001b[39m\u001b[38;5;124m\"\u001b[39m\n\u001b[0;32m      9\u001b[0m \u001b[38;5;66;03m# Ensure the directory exists\u001b[39;00m\n",
      "\u001b[1;31mNameError\u001b[0m: name 'chunks' is not defined"
     ]
    }
   ],
   "source": [
    "from langchain.docstore.document import Document\n",
    "import os\n",
    "\n",
    "\n",
    "documents = [Document(page_content=chunk) for chunk in chunks]\n",
    "\n",
    "persist_directory = \"chroma_db_akshay_hehe\"\n",
    "\n",
    "# Ensure the directory exists\n",
    "os.makedirs(persist_directory, exist_ok=True)\n",
    "\n",
    "vector_db = Chroma.from_documents(\n",
    "    documents=documents,\n",
    "    embedding=OllamaEmbeddings(model=\"nomic-embed-text\", show_progress=True),\n",
    "    persist_directory=persist_directory,\n",
    "    collection_name=\"local-rag\"\n",
    ")\n",
    "\n",
    "print(f\"Number of documents in Chroma: {vector_db._collection.count()}\")"
   ]
  },
  {
   "cell_type": "code",
   "execution_count": 1,
   "metadata": {},
   "outputs": [],
   "source": [
    "from langchain.prompts import ChatPromptTemplate, PromptTemplate\n",
    "from langchain_core.output_parsers import StrOutputParser\n",
    "from langchain_community.chat_models import ChatOllama\n",
    "from langchain_core.runnables import RunnablePassthrough\n",
    "from langchain.retrievers.multi_query import MultiQueryRetriever"
   ]
  },
  {
   "cell_type": "code",
   "execution_count": 2,
   "metadata": {},
   "outputs": [
    {
     "name": "stderr",
     "output_type": "stream",
     "text": [
      "C:\\Users\\aruna\\AppData\\Local\\Temp\\ipykernel_10400\\1884553848.py:2: LangChainDeprecationWarning: The class `ChatOllama` was deprecated in LangChain 0.3.1 and will be removed in 1.0.0. An updated version of the class exists in the :class:`~langchain-ollama package and should be used instead. To use it run `pip install -U :class:`~langchain-ollama` and import as `from :class:`~langchain_ollama import ChatOllama``.\n",
      "  llm = ChatOllama(model=local_model)\n"
     ]
    }
   ],
   "source": [
    "local_model = \"llama3.1\"\n",
    "llm = ChatOllama(model=local_model)"
   ]
  },
  {
   "cell_type": "code",
   "execution_count": 3,
   "metadata": {},
   "outputs": [],
   "source": [
    "QUERY_PROMPT = PromptTemplate(\n",
    "    input_variables=[\"question\"],\n",
    "    template=\"\"\"You are an AI language model assistant. Your task is to generate five\n",
    "    different versions of the given user question to retrieve relevant documents from\n",
    "    a vector database. By generating multiple perspectives on the user question, your\n",
    "    goal is to help the user overcome some of the limitations of the distance-based\n",
    "    similarity search. Provide these alternative questions separated by newlines.\n",
    "    Original question: {question}\"\"\",\n",
    ")"
   ]
  },
  {
   "cell_type": "code",
   "execution_count": 18,
   "metadata": {},
   "outputs": [],
   "source": [
    "# if already extracted the vector db - \n",
    "persist_directory = \"chroma_db_5_tb\"\n",
    "vector_db = Chroma(\n",
    "    persist_directory=persist_directory,\n",
    "    embedding_function=OllamaEmbeddings(model=\"nomic-embed-text\"),\n",
    "    collection_name=\"local-rag\"\n",
    ")"
   ]
  },
  {
   "cell_type": "code",
   "execution_count": 19,
   "metadata": {},
   "outputs": [],
   "source": [
    "retriever = MultiQueryRetriever.from_llm(\n",
    "    retriever=vector_db.as_retriever(search_kwargs={\"k\": 2}),\n",
    "    llm=llm,\n",
    "    prompt=QUERY_PROMPT\n",
    ")\n",
    "\n",
    "# RAG prompt\n",
    "template = \"\"\"Answer the question based ONLY on the following context:\n",
    "{context}\n",
    "Question: {question}\n",
    "\"\"\"\n",
    "\n",
    "prompt = ChatPromptTemplate.from_template(template)"
   ]
  },
  {
   "cell_type": "code",
   "execution_count": 20,
   "metadata": {},
   "outputs": [],
   "source": [
    "chain = (\n",
    "    {\"context\": retriever, \"question\": RunnablePassthrough()}\n",
    "    | prompt\n",
    "    | llm\n",
    "    | StrOutputParser()\n",
    ")"
   ]
  },
  {
   "cell_type": "code",
   "execution_count": 13,
   "metadata": {},
   "outputs": [],
   "source": [
    "# chain.invoke(\"Tell me about the Education background of the applicant based on the document provided\")"
   ]
  },
  {
   "cell_type": "code",
   "execution_count": null,
   "metadata": {},
   "outputs": [
    {
     "data": {
      "text/plain": [
       "\"Based on the symptoms described (persistent dry cough, fatigue, low-grade fever, and chest discomfort), it is likely that the patient has a respiratory infection.\\n\\nPossible Diagnosis:\\n\\n*   Pneumonia: This is an inflammation of the lung tissue caused by an infection. The symptoms described are consistent with pneumonia.\\n*   Tuberculosis: This is a bacterial infection that can cause symptoms similar to pneumonia.\\n*   Bronchitis: This is an inflammation of the bronchial tubes, which can also present with coughing and chest discomfort.\\n\\nRecommended Medication:\\n\\nThe recommended medication would depend on the specific diagnosis. However, for pneumonia or tuberculosis, the following medications may be used:\\n\\n*   Antibiotics (e.g., ciprofloxacin, azithromycin) for pneumonia\\n*   Antituberculosis drugs (e.g., isoniazid, rifampin) for tuberculosis\\n\\nSeverity of Condition:\\n\\nThe severity of the condition would depend on the specific diagnosis and the patient's overall health. However, in general, the following conditions are considered severe:\\n\\n*   Pneumonia: This can be a life-threatening condition, especially if left untreated or if it is caused by a resistant bacterial strain.\\n*   Tuberculosis: This can also be a life-threatening condition, especially if left untreated or if it is not properly managed.\\n*   Bronchitis: While this is generally considered a less severe condition than pneumonia or tuberculosis, it can still cause significant discomfort and may require treatment.\\n\\nIt's always best to consult with a healthcare professional for an accurate diagnosis and appropriate treatment plan.\""
      ]
     },
     "execution_count": 22,
     "metadata": {},
     "output_type": "execute_result"
    }
   ],
   "source": [
    "chain.invoke(\"A 45-year-old patient presents with persistent dry cough, fatigue, low-grade fever, and chest discomfort for the past two weeks. What could be the possible diagnosis, the recommended medication, and the severity of the condition?\")"
   ]
  },
  {
   "cell_type": "code",
   "execution_count": 23,
   "metadata": {},
   "outputs": [
    {
     "data": {
      "text/plain": [
       "'Based on the symptoms described (sudden onset of sharp chest pain, shortness of breath, sweating, and dizziness), it appears that the patient may be experiencing an acute cardiac event, specifically a myocardial infarction (MI).\\n\\n**Likely Diagnosis:** Acute Myocardial Infarction (MI) or Heart Attack\\n\\nMyocardial infarction occurs when blood flow to the heart muscle is blocked for a long enough time that it causes damage to the heart muscle. This condition can cause severe chest pain, shortness of breath, sweating, and dizziness.\\n\\n**Recommended Treatment:**\\n\\nThe recommended treatment for MI involves immediate medical attention, usually in an emergency department or cardiac catheterization lab. The goal of treatment is to restore blood flow to the affected area of the heart as quickly as possible.\\n\\n1. **Aspirin:** Administered immediately to help prevent further clotting.\\n2. **Oxygen Therapy:** Provided to ensure adequate oxygenation.\\n3. **Nitroglycerin:** May be given to help manage chest pain and reduce strain on the heart.\\n4. **Anti-Platelet Therapy:** Other medications like clopidogrel may be used to prevent further clotting.\\n5. **Fibrinolytic Therapy:** If the patient presents early after symptoms onset, fibrinolytic therapy (e.g., alteplase) might be considered to dissolve clots.\\n6. **Angiography and Coronary Interventions (PCI):** Urgent angiography followed by percutaneous coronary intervention (if needed) is crucial for restoring blood flow.\\n\\n7. **Thrombolysis:** In some cases, especially if PCI cannot be performed in a timely manner, thrombolytic therapy may be used to dissolve the clot.\\n\\n8. **Pharmacologic Management:** Post-MI management includes pharmacologic therapy with beta-blockers (to reduce workload on the heart), ACE inhibitors (or ARBs) for their protective effects on the heart and kidneys, anticoagulants (if not already given), and statins to control cholesterol levels.\\n\\n**Severity of the Condition:**\\n\\nThe severity of an MI can vary from mild to life-threatening, depending on factors like:\\n\\n- Time elapsed between symptom onset and medical treatment.\\n- Location and size of the affected heart area.\\n- Presence of complications or comorbid conditions.\\n\\nIn general, prompt recognition and early intervention significantly improve outcomes. The American Heart Association (AHA) recommends following a STEMI (ST-Elevation Myocardial Infarction) protocol, which includes immediate activation of emergency medical services, expedited angiography, and if necessary, PCI.'"
      ]
     },
     "execution_count": 23,
     "metadata": {},
     "output_type": "execute_result"
    }
   ],
   "source": [
    "chain.invoke(\"A 60-year-old patient with a history of high blood pressure and diabetes reports sudden onset of sharp chest pain, shortness of breath, sweating, and dizziness. What is the likely diagnosis, recommended treatment, and the severity of the condition?\")"
   ]
  },
  {
   "cell_type": "code",
   "execution_count": 13,
   "metadata": {},
   "outputs": [
    {
     "data": {
      "text/plain": [
       "'Here are the 10 questions along with answers based on the provided text:\\n\\n**1. What is the recommended daily caloric intake for patients with severe TBI?**\\nAnswer: Approximately 140% of expected requirements.\\n\\n**2. How often should posttraumatic seizures be treated with anticonvulsants?**\\nAnswer: For 7 days after TBI.\\n\\n**3. What is the goal mean arterial pressure (MAP) for patients with severe TBI?**\\nAnswer: Above 80 mm Hg until cerebral perfusion pressure (CPP) can be measured.\\n\\n**4. What should be done to control ICP according to Algorithm 60.1?**\\nAnswer: See Algorithm 60.1 for detailed steps.\\n\\n**5. Why should antimicrobials not be delayed in the treatment of CNS infections?**\\nAnswer: To prevent devastating complications and ensure prompt initiation of effective therapy.\\n\\n**6. What is the recommended duration for seizure prophylaxis after TBI?**\\nAnswer: Not to extend beyond 1 week.\\n\\n**7. How often should patients with severe TBI receive nutritional support?**\\nAnswer: Early feeding (within 48 to 72 hours) is important.\\n\\n**8. What should be done in case of coagulopathy before performing lumbar puncture?**\\nAnswer: Correction of the coagulopathy should be done prior to LP.\\n\\n**9. Why are sequential compression devices and anticoagulants recommended for DVT prophylaxis in TBI patients?**\\nAnswer: To prevent venous thromboembolism complications.\\n\\n**10. What is the recommended protein percentage of daily caloric intake for TBI patients?**\\nAnswer: At least 15% of calories should be supplied as protein.'"
      ]
     },
     "execution_count": 13,
     "metadata": {},
     "output_type": "execute_result"
    }
   ],
   "source": [
    "chain.invoke(\"Frame 10 questions along with answers from the document.\")"
   ]
  },
  {
   "cell_type": "code",
   "execution_count": 14,
   "metadata": {},
   "outputs": [
    {
     "data": {
      "text/plain": [
       "'The document appears to be a chapter or section from a medical textbook, likely \"Critical Care Medicine: A Case-Focused Approach\" given the table numbers and chapter titles that match this book. However, without more information, it\\'s difficult to pinpoint the exact title of the original textbook.'"
      ]
     },
     "execution_count": 14,
     "metadata": {},
     "output_type": "execute_result"
    }
   ],
   "source": [
    "chain.invoke(\"Which textbook does the document originate from?\")"
   ]
  },
  {
   "cell_type": "code",
   "execution_count": 20,
   "metadata": {},
   "outputs": [
    {
     "name": "stderr",
     "output_type": "stream",
     "text": [
      "OllamaEmbeddings: 100%|██████████| 1/1 [00:03<00:00,  3.17s/it]\n",
      "OllamaEmbeddings: 100%|██████████| 1/1 [00:02<00:00,  2.04s/it]\n",
      "OllamaEmbeddings: 100%|██████████| 1/1 [00:02<00:00,  2.05s/it]\n",
      "OllamaEmbeddings: 100%|██████████| 1/1 [00:02<00:00,  2.05s/it]\n",
      "OllamaEmbeddings: 100%|██████████| 1/1 [00:02<00:00,  2.28s/it]\n",
      "OllamaEmbeddings: 100%|██████████| 1/1 [00:02<00:00,  2.28s/it]\n"
     ]
    },
    {
     "data": {
      "text/plain": [
       "\"Yes, there are a few more important concepts mentioned in the document:\\n\\n1. **Experience Replay**: This is a technique used to improve the efficiency of training deep Q-networks (DQN) by storing experiences (states, actions, rewards, next states, etc.) in a replay buffer and sampling from this buffer during training.\\n2. **Target Network**: In DQN, there are two networks: the **Q-Network** (also called the prediction network) which predicts the action values Q(s,a), and the **Target Network** which is used to compute the target values y = r + γmaxa' Q(s', a'; θ'-). The Target Network is updated periodically (e.g., every C steps) by copying the weights of the Q-Network.\\n3. **Error Clipping**: This is a technique used to prevent exploding gradients in DQN by clipping the error term (the difference between predicted and target values) to a certain range (-c, c).\\n\\nThese three components are crucial for stabilizing the training process and improving the performance of deep Q-networks.\""
      ]
     },
     "execution_count": 20,
     "metadata": {},
     "output_type": "execute_result"
    }
   ],
   "source": [
    "chain.invoke(\"Anything crucial in the document apart from Experience Replay, Target Network and Error Clipping?\")"
   ]
  },
  {
   "cell_type": "code",
   "execution_count": 19,
   "metadata": {},
   "outputs": [
    {
     "name": "stdout",
     "output_type": "stream",
     "text": [
      "Collecting unsloth\n",
      "  Using cached unsloth-2024.11.5-py3-none-any.whl (161 kB)\n",
      "Collecting xformers==0.0.28.post2\n",
      "  Using cached xformers-0.0.28.post2.tar.gz (7.8 MB)\n"
     ]
    },
    {
     "name": "stderr",
     "output_type": "stream",
     "text": [
      "ERROR: Could not install packages due to an OSError: [Errno 2] No such file or directory: 'C:\\\\Users\\\\aruna\\\\AppData\\\\Local\\\\Temp\\\\pip-install-lfvaacbw\\\\xformers_9d5f59bd5a3e42099233fded4dc40f44\\\\third_party/flash-attention/csrc/composable_kernel/client_example/24_grouped_conv_activation/grouped_convnd_bwd_data_bilinear/grouped_conv_bwd_data_bilinear_residual_fp16.cpp'\n",
      "HINT: This error might have occurred since this system does not have Windows Long Path support enabled. You can find information on how to enable this at https://pip.pypa.io/warnings/enable-long-paths\n",
      "\n",
      "\n",
      "[notice] A new release of pip is available: 23.0.1 -> 24.3.1\n",
      "[notice] To update, run: python.exe -m pip install --upgrade pip\n"
     ]
    }
   ],
   "source": [
    "!pip install unsloth \"xformers==0.0.28.post2\""
   ]
  }
 ],
 "metadata": {
  "kernelspec": {
   "display_name": "AiDoc",
   "language": "python",
   "name": "python3"
  },
  "language_info": {
   "codemirror_mode": {
    "name": "ipython",
    "version": 3
   },
   "file_extension": ".py",
   "mimetype": "text/x-python",
   "name": "python",
   "nbconvert_exporter": "python",
   "pygments_lexer": "ipython3",
   "version": "3.10.11"
  }
 },
 "nbformat": 4,
 "nbformat_minor": 2
}
